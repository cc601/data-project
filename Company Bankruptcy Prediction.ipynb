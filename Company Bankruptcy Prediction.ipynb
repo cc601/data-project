{
 "cells": [
  {
   "cell_type": "markdown",
   "id": "07b4fb49-87e0-41d7-8137-11347460e6e3",
   "metadata": {},
   "source": [
    "# **Key Financial Indicators in Corporate Bankruptcy Prediction**"
   ]
  },
  {
   "cell_type": "markdown",
   "id": "e2013dd5-d567-4143-b721-3870b1956e50",
   "metadata": {},
   "source": [
    "## 1. introduction\n",
    "### (1)Background information\n",
    "### Project Outline\n",
    "For this individual project, we are conducting a data analysis using a publicly available dataset from Kaggle titled “Company Bankruptcy Prediction.” The dataset contains financial ratios of thousands of companies, along with a label indicating whether or not the company eventually went bankrupt. The goal of this project is to explore which financial indicators are most predictive of bankruptcy, and to build a simple classification model that can identify companies at high risk. I will apply the data wrangling, visualization, and classification techniques I have learned so far, using R to carry out this analysis.\n",
    "### Company Bankruptcy Prediction dataset\n",
    "The dataset used in this project comes from a publicly available Kaggle dataset titled Company Bankruptcy Prediction. The data were originally collected from the Taiwan Economic Journal between 1999 and 2009, and company bankruptcy was defined according to the business regulations of the Taiwan Stock Exchange.\n",
    "### (2)Question we tried to answer\n",
    "**Broad Question**  \n",
    "What financial characteristics are most predictive of company bankruptcy, and how do these factors differ between bankrupt and non-bankrupt firms?  \n",
    "**Specific Question**    \n",
    "Can selected financial ratios—such as net income to total assets, debt ratio, net value growth rate, interest coverage ratio, and current ratio—predict whether a company is likely to go bankrupt?\n",
    "### (3)Describe the dataset\n",
    "It includes financial information from over 6,000 companies, with over 60 financial ratios such as Net Income to Total Assets, Debt Ratio, Net Value Growth Rate, and Interest Coverage Ratio. Each company is labeled as either bankrupt or non-bankrupt, allowing for binary classification tasks."
   ]
  },
  {
   "cell_type": "markdown",
   "id": "09f4c81b-d68c-4303-9c80-ad8ebd393475",
   "metadata": {},
   "source": [
    "## 2. Methods & Results\n",
    "### (1) K-Nearest Neighbors (KNN) Classification.\n",
    "We are using KNN classification to predict whether a company will go bankrupt based on its financial ratios:\n",
    "net income to total assets, debt ratio, net value growth rate, interest coverage ratio, and current ratio.\n",
    "\n",
    "This classification method calculates the distance between a new company and its K-nearest neighbors in the training set, assigning the majority class (bankrupt or not) as the predicted outcome. The steps are as follows:\n",
    "\n",
    "* Load in R packages and dataset\n",
    "\n",
    "* Clean the dataset:\n",
    "\n",
    "   * Convert Bankrupt? into a factor variable\n",
    " \n",
    "   * Select only the five financial ratio columns and the target variable\n",
    "\n",
    "   * Check for missing values (NA) in the selected financial ratios\n",
    " \n",
    "   * If missing values are found, remove or impute them as appropriate\n",
    "\n",
    "   * Standardize the five selected financial ratios to ensure equal scale\n",
    "\n",
    "   * Remove any companies with incomplete or invalid financial data\n",
    "\n",
    "* Explore and visualize the cleaned data:\n",
    "\n",
    "   * Plot distribution of each variable\n",
    "\n",
    "   * Use boxplots or scatterplots to compare bankrupt vs non-bankrupt companies\n",
    "\n",
    "* Split the data into training and testing sets (e.g., 70% training, 30% testing)\n",
    "\n",
    "* Train a KNN model on the training data\n",
    "\n",
    "* Use cross-validation to select the optimal value of K\n",
    "\n",
    "* Retrain the model using the chosen K\n",
    "\n",
    "* Evaluate the model on the test data:\n",
    "\n",
    "   * Generate a confusion matrix\n",
    "\n",
    "   * Calculate accuracy, precision, recall\n",
    "\n",
    "* Use the model to predict whether a new company is likely to go bankrupt"
   ]
  },
  {
   "cell_type": "markdown",
   "id": "6e92210e-e704-479e-a57e-a9efe049f906",
   "metadata": {},
   "source": [
    "### (2) Execution"
   ]
  },
  {
   "cell_type": "code",
   "execution_count": 1,
   "id": "9c847f56-3507-4080-ab05-ce8535d10405",
   "metadata": {},
   "outputs": [
    {
     "name": "stderr",
     "output_type": "stream",
     "text": [
      "── \u001b[1mAttaching core tidyverse packages\u001b[22m ──────────────────────── tidyverse 2.0.0 ──\n",
      "\u001b[32m✔\u001b[39m \u001b[34mdplyr    \u001b[39m 1.1.4     \u001b[32m✔\u001b[39m \u001b[34mreadr    \u001b[39m 2.1.5\n",
      "\u001b[32m✔\u001b[39m \u001b[34mforcats  \u001b[39m 1.0.0     \u001b[32m✔\u001b[39m \u001b[34mstringr  \u001b[39m 1.5.1\n",
      "\u001b[32m✔\u001b[39m \u001b[34mggplot2  \u001b[39m 3.5.1     \u001b[32m✔\u001b[39m \u001b[34mtibble   \u001b[39m 3.2.1\n",
      "\u001b[32m✔\u001b[39m \u001b[34mlubridate\u001b[39m 1.9.3     \u001b[32m✔\u001b[39m \u001b[34mtidyr    \u001b[39m 1.3.1\n",
      "\u001b[32m✔\u001b[39m \u001b[34mpurrr    \u001b[39m 1.0.2     \n",
      "── \u001b[1mConflicts\u001b[22m ────────────────────────────────────────── tidyverse_conflicts() ──\n",
      "\u001b[31m✖\u001b[39m \u001b[34mdplyr\u001b[39m::\u001b[32mfilter()\u001b[39m masks \u001b[34mstats\u001b[39m::filter()\n",
      "\u001b[31m✖\u001b[39m \u001b[34mdplyr\u001b[39m::\u001b[32mlag()\u001b[39m    masks \u001b[34mstats\u001b[39m::lag()\n",
      "\u001b[36mℹ\u001b[39m Use the conflicted package (\u001b[3m\u001b[34m<http://conflicted.r-lib.org/>\u001b[39m\u001b[23m) to force all conflicts to become errors\n",
      "── \u001b[1mAttaching packages\u001b[22m ────────────────────────────────────── tidymodels 1.2.0 ──\n",
      "\n",
      "\u001b[32m✔\u001b[39m \u001b[34mbroom       \u001b[39m 1.0.6     \u001b[32m✔\u001b[39m \u001b[34mrsample     \u001b[39m 1.2.1\n",
      "\u001b[32m✔\u001b[39m \u001b[34mdials       \u001b[39m 1.2.1     \u001b[32m✔\u001b[39m \u001b[34mtune        \u001b[39m 1.2.1\n",
      "\u001b[32m✔\u001b[39m \u001b[34minfer       \u001b[39m 1.0.7     \u001b[32m✔\u001b[39m \u001b[34mworkflows   \u001b[39m 1.1.4\n",
      "\u001b[32m✔\u001b[39m \u001b[34mmodeldata   \u001b[39m 1.4.0     \u001b[32m✔\u001b[39m \u001b[34mworkflowsets\u001b[39m 1.1.0\n",
      "\u001b[32m✔\u001b[39m \u001b[34mparsnip     \u001b[39m 1.2.1     \u001b[32m✔\u001b[39m \u001b[34myardstick   \u001b[39m 1.3.1\n",
      "\u001b[32m✔\u001b[39m \u001b[34mrecipes     \u001b[39m 1.1.0     \n",
      "\n",
      "── \u001b[1mConflicts\u001b[22m ───────────────────────────────────────── tidymodels_conflicts() ──\n",
      "\u001b[31m✖\u001b[39m \u001b[34mscales\u001b[39m::\u001b[32mdiscard()\u001b[39m masks \u001b[34mpurrr\u001b[39m::discard()\n",
      "\u001b[31m✖\u001b[39m \u001b[34mdplyr\u001b[39m::\u001b[32mfilter()\u001b[39m   masks \u001b[34mstats\u001b[39m::filter()\n",
      "\u001b[31m✖\u001b[39m \u001b[34mrecipes\u001b[39m::\u001b[32mfixed()\u001b[39m  masks \u001b[34mstringr\u001b[39m::fixed()\n",
      "\u001b[31m✖\u001b[39m \u001b[34mdplyr\u001b[39m::\u001b[32mlag()\u001b[39m      masks \u001b[34mstats\u001b[39m::lag()\n",
      "\u001b[31m✖\u001b[39m \u001b[34myardstick\u001b[39m::\u001b[32mspec()\u001b[39m masks \u001b[34mreadr\u001b[39m::spec()\n",
      "\u001b[31m✖\u001b[39m \u001b[34mrecipes\u001b[39m::\u001b[32mstep()\u001b[39m   masks \u001b[34mstats\u001b[39m::step()\n",
      "\u001b[34m•\u001b[39m Learn how to get started at \u001b[32mhttps://www.tidymodels.org/start/\u001b[39m\n",
      "\n"
     ]
    }
   ],
   "source": [
    "# Load necessary R packages\n",
    "library(tidyverse)\n",
    "library(repr)\n",
    "library(tidymodels)\n",
    "options(repr.matrix.max.rows = 6)"
   ]
  },
  {
   "cell_type": "code",
   "execution_count": 23,
   "id": "c1e813f3-952b-4487-9db5-8ad7723a1554",
   "metadata": {},
   "outputs": [
    {
     "name": "stderr",
     "output_type": "stream",
     "text": [
      "\u001b[1mRows: \u001b[22m\u001b[34m6819\u001b[39m \u001b[1mColumns: \u001b[22m\u001b[34m96\u001b[39m\n",
      "\u001b[36m──\u001b[39m \u001b[1mColumn specification\u001b[22m \u001b[36m────────────────────────────────────────────────────────\u001b[39m\n",
      "\u001b[1mDelimiter:\u001b[22m \",\"\n",
      "\u001b[32mdbl\u001b[39m (96): Bankrupt?, ROA(C) before interest and depreciation before interest...\n",
      "\n",
      "\u001b[36mℹ\u001b[39m Use `spec()` to retrieve the full column specification for this data.\n",
      "\u001b[36mℹ\u001b[39m Specify the column types or set `show_col_types = FALSE` to quiet this message.\n"
     ]
    },
    {
     "data": {
      "text/html": [
       "<table class=\"dataframe\">\n",
       "<caption>A spec_tbl_df: 6819 × 96</caption>\n",
       "<thead>\n",
       "\t<tr><th scope=col>Bankrupt?</th><th scope=col>ROA(C) before interest and depreciation before interest</th><th scope=col>ROA(A) before interest and % after tax</th><th scope=col>ROA(B) before interest and depreciation after tax</th><th scope=col>Operating Gross Margin</th><th scope=col>Realized Sales Gross Margin</th><th scope=col>Operating Profit Rate</th><th scope=col>Pre-tax net Interest Rate</th><th scope=col>After-tax net Interest Rate</th><th scope=col>Non-industry income and expenditure/revenue</th><th scope=col>⋯</th><th scope=col>Net Income to Total Assets</th><th scope=col>Total assets to GNP price</th><th scope=col>No-credit Interval</th><th scope=col>Gross Profit to Sales</th><th scope=col>Net Income to Stockholder's Equity</th><th scope=col>Liability to Equity</th><th scope=col>Degree of Financial Leverage (DFL)</th><th scope=col>Interest Coverage Ratio (Interest expense to EBIT)</th><th scope=col>Net Income Flag</th><th scope=col>Equity to Liability</th></tr>\n",
       "\t<tr><th scope=col>&lt;dbl&gt;</th><th scope=col>&lt;dbl&gt;</th><th scope=col>&lt;dbl&gt;</th><th scope=col>&lt;dbl&gt;</th><th scope=col>&lt;dbl&gt;</th><th scope=col>&lt;dbl&gt;</th><th scope=col>&lt;dbl&gt;</th><th scope=col>&lt;dbl&gt;</th><th scope=col>&lt;dbl&gt;</th><th scope=col>&lt;dbl&gt;</th><th scope=col>⋯</th><th scope=col>&lt;dbl&gt;</th><th scope=col>&lt;dbl&gt;</th><th scope=col>&lt;dbl&gt;</th><th scope=col>&lt;dbl&gt;</th><th scope=col>&lt;dbl&gt;</th><th scope=col>&lt;dbl&gt;</th><th scope=col>&lt;dbl&gt;</th><th scope=col>&lt;dbl&gt;</th><th scope=col>&lt;dbl&gt;</th><th scope=col>&lt;dbl&gt;</th></tr>\n",
       "</thead>\n",
       "<tbody>\n",
       "\t<tr><td>1</td><td>0.3705943</td><td>0.4243894</td><td>0.4057498</td><td>0.6014572</td><td>0.6014572</td><td>0.9989692</td><td>0.7968871</td><td>0.8088094</td><td>0.3026464</td><td>⋯</td><td>0.7168453</td><td>0.009219440</td><td>0.6228790</td><td>0.6014533</td><td>0.8278902</td><td>0.2902019</td><td>0.02660063</td><td>0.5640501</td><td>1</td><td>0.01646874</td></tr>\n",
       "\t<tr><td>1</td><td>0.4642909</td><td>0.5382141</td><td>0.5167300</td><td>0.6102351</td><td>0.6102351</td><td>0.9989460</td><td>0.7973802</td><td>0.8093007</td><td>0.3035564</td><td>⋯</td><td>0.7952971</td><td>0.008323302</td><td>0.6236517</td><td>0.6102365</td><td>0.8399693</td><td>0.2838460</td><td>0.26457682</td><td>0.5701749</td><td>1</td><td>0.02079431</td></tr>\n",
       "\t<tr><td>1</td><td>0.4260713</td><td>0.4990188</td><td>0.4722951</td><td>0.6014500</td><td>0.6013635</td><td>0.9988574</td><td>0.7964034</td><td>0.8083875</td><td>0.3020352</td><td>⋯</td><td>0.7746697</td><td>0.040002853</td><td>0.6238410</td><td>0.6014493</td><td>0.8367743</td><td>0.2901885</td><td>0.02655472</td><td>0.5637061</td><td>1</td><td>0.01647411</td></tr>\n",
       "\t<tr><td>⋮</td><td>⋮</td><td>⋮</td><td>⋮</td><td>⋮</td><td>⋮</td><td>⋮</td><td>⋮</td><td>⋮</td><td>⋮</td><td>⋱</td><td>⋮</td><td>⋮</td><td>⋮</td><td>⋮</td><td>⋮</td><td>⋮</td><td>⋮</td><td>⋮</td><td>⋮</td><td>⋮</td></tr>\n",
       "\t<tr><td>0</td><td>0.4727246</td><td>0.5337440</td><td>0.5206381</td><td>0.6104441</td><td>0.6102135</td><td>0.9989845</td><td>0.7974009</td><td>0.8093169</td><td>0.3035122</td><td>⋯</td><td>0.7977781</td><td>0.0028398848</td><td>0.6241561</td><td>0.6104406</td><td>0.8401383</td><td>0.2757887</td><td>0.02679116</td><td>0.5651584</td><td>1</td><td>0.09764874</td></tr>\n",
       "\t<tr><td>0</td><td>0.5062643</td><td>0.5599106</td><td>0.5540446</td><td>0.6078496</td><td>0.6078496</td><td>0.9990738</td><td>0.7974999</td><td>0.8093994</td><td>0.3034982</td><td>⋯</td><td>0.8118079</td><td>0.0028371958</td><td>0.6239575</td><td>0.6078459</td><td>0.8410836</td><td>0.2775472</td><td>0.02682205</td><td>0.5653015</td><td>1</td><td>0.04400945</td></tr>\n",
       "\t<tr><td>0</td><td>0.4930532</td><td>0.5701047</td><td>0.5495476</td><td>0.6274089</td><td>0.6274089</td><td>0.9980803</td><td>0.8019867</td><td>0.8137996</td><td>0.3134153</td><td>⋯</td><td>0.8159559</td><td>0.0007068724</td><td>0.6266803</td><td>0.6274082</td><td>0.8410185</td><td>0.2751141</td><td>0.02679295</td><td>0.5651669</td><td>1</td><td>0.23390224</td></tr>\n",
       "</tbody>\n",
       "</table>\n"
      ],
      "text/latex": [
       "A spec\\_tbl\\_df: 6819 × 96\n",
       "\\begin{tabular}{lllllllllllllllllllll}\n",
       " Bankrupt? & ROA(C) before interest and depreciation before interest & ROA(A) before interest and \\% after tax & ROA(B) before interest and depreciation after tax & Operating Gross Margin & Realized Sales Gross Margin & Operating Profit Rate & Pre-tax net Interest Rate & After-tax net Interest Rate & Non-industry income and expenditure/revenue & ⋯ & Net Income to Total Assets & Total assets to GNP price & No-credit Interval & Gross Profit to Sales & Net Income to Stockholder's Equity & Liability to Equity & Degree of Financial Leverage (DFL) & Interest Coverage Ratio (Interest expense to EBIT) & Net Income Flag & Equity to Liability\\\\\n",
       " <dbl> & <dbl> & <dbl> & <dbl> & <dbl> & <dbl> & <dbl> & <dbl> & <dbl> & <dbl> & ⋯ & <dbl> & <dbl> & <dbl> & <dbl> & <dbl> & <dbl> & <dbl> & <dbl> & <dbl> & <dbl>\\\\\n",
       "\\hline\n",
       "\t 1 & 0.3705943 & 0.4243894 & 0.4057498 & 0.6014572 & 0.6014572 & 0.9989692 & 0.7968871 & 0.8088094 & 0.3026464 & ⋯ & 0.7168453 & 0.009219440 & 0.6228790 & 0.6014533 & 0.8278902 & 0.2902019 & 0.02660063 & 0.5640501 & 1 & 0.01646874\\\\\n",
       "\t 1 & 0.4642909 & 0.5382141 & 0.5167300 & 0.6102351 & 0.6102351 & 0.9989460 & 0.7973802 & 0.8093007 & 0.3035564 & ⋯ & 0.7952971 & 0.008323302 & 0.6236517 & 0.6102365 & 0.8399693 & 0.2838460 & 0.26457682 & 0.5701749 & 1 & 0.02079431\\\\\n",
       "\t 1 & 0.4260713 & 0.4990188 & 0.4722951 & 0.6014500 & 0.6013635 & 0.9988574 & 0.7964034 & 0.8083875 & 0.3020352 & ⋯ & 0.7746697 & 0.040002853 & 0.6238410 & 0.6014493 & 0.8367743 & 0.2901885 & 0.02655472 & 0.5637061 & 1 & 0.01647411\\\\\n",
       "\t ⋮ & ⋮ & ⋮ & ⋮ & ⋮ & ⋮ & ⋮ & ⋮ & ⋮ & ⋮ & ⋱ & ⋮ & ⋮ & ⋮ & ⋮ & ⋮ & ⋮ & ⋮ & ⋮ & ⋮ & ⋮\\\\\n",
       "\t 0 & 0.4727246 & 0.5337440 & 0.5206381 & 0.6104441 & 0.6102135 & 0.9989845 & 0.7974009 & 0.8093169 & 0.3035122 & ⋯ & 0.7977781 & 0.0028398848 & 0.6241561 & 0.6104406 & 0.8401383 & 0.2757887 & 0.02679116 & 0.5651584 & 1 & 0.09764874\\\\\n",
       "\t 0 & 0.5062643 & 0.5599106 & 0.5540446 & 0.6078496 & 0.6078496 & 0.9990738 & 0.7974999 & 0.8093994 & 0.3034982 & ⋯ & 0.8118079 & 0.0028371958 & 0.6239575 & 0.6078459 & 0.8410836 & 0.2775472 & 0.02682205 & 0.5653015 & 1 & 0.04400945\\\\\n",
       "\t 0 & 0.4930532 & 0.5701047 & 0.5495476 & 0.6274089 & 0.6274089 & 0.9980803 & 0.8019867 & 0.8137996 & 0.3134153 & ⋯ & 0.8159559 & 0.0007068724 & 0.6266803 & 0.6274082 & 0.8410185 & 0.2751141 & 0.02679295 & 0.5651669 & 1 & 0.23390224\\\\\n",
       "\\end{tabular}\n"
      ],
      "text/markdown": [
       "\n",
       "A spec_tbl_df: 6819 × 96\n",
       "\n",
       "| Bankrupt? &lt;dbl&gt; | ROA(C) before interest and depreciation before interest &lt;dbl&gt; | ROA(A) before interest and % after tax &lt;dbl&gt; | ROA(B) before interest and depreciation after tax &lt;dbl&gt; | Operating Gross Margin &lt;dbl&gt; | Realized Sales Gross Margin &lt;dbl&gt; | Operating Profit Rate &lt;dbl&gt; | Pre-tax net Interest Rate &lt;dbl&gt; | After-tax net Interest Rate &lt;dbl&gt; | Non-industry income and expenditure/revenue &lt;dbl&gt; | ⋯ ⋯ | Net Income to Total Assets &lt;dbl&gt; | Total assets to GNP price &lt;dbl&gt; | No-credit Interval &lt;dbl&gt; | Gross Profit to Sales &lt;dbl&gt; | Net Income to Stockholder's Equity &lt;dbl&gt; | Liability to Equity &lt;dbl&gt; | Degree of Financial Leverage (DFL) &lt;dbl&gt; | Interest Coverage Ratio (Interest expense to EBIT) &lt;dbl&gt; | Net Income Flag &lt;dbl&gt; | Equity to Liability &lt;dbl&gt; |\n",
       "|---|---|---|---|---|---|---|---|---|---|---|---|---|---|---|---|---|---|---|---|---|\n",
       "| 1 | 0.3705943 | 0.4243894 | 0.4057498 | 0.6014572 | 0.6014572 | 0.9989692 | 0.7968871 | 0.8088094 | 0.3026464 | ⋯ | 0.7168453 | 0.009219440 | 0.6228790 | 0.6014533 | 0.8278902 | 0.2902019 | 0.02660063 | 0.5640501 | 1 | 0.01646874 |\n",
       "| 1 | 0.4642909 | 0.5382141 | 0.5167300 | 0.6102351 | 0.6102351 | 0.9989460 | 0.7973802 | 0.8093007 | 0.3035564 | ⋯ | 0.7952971 | 0.008323302 | 0.6236517 | 0.6102365 | 0.8399693 | 0.2838460 | 0.26457682 | 0.5701749 | 1 | 0.02079431 |\n",
       "| 1 | 0.4260713 | 0.4990188 | 0.4722951 | 0.6014500 | 0.6013635 | 0.9988574 | 0.7964034 | 0.8083875 | 0.3020352 | ⋯ | 0.7746697 | 0.040002853 | 0.6238410 | 0.6014493 | 0.8367743 | 0.2901885 | 0.02655472 | 0.5637061 | 1 | 0.01647411 |\n",
       "| ⋮ | ⋮ | ⋮ | ⋮ | ⋮ | ⋮ | ⋮ | ⋮ | ⋮ | ⋮ | ⋱ | ⋮ | ⋮ | ⋮ | ⋮ | ⋮ | ⋮ | ⋮ | ⋮ | ⋮ | ⋮ |\n",
       "| 0 | 0.4727246 | 0.5337440 | 0.5206381 | 0.6104441 | 0.6102135 | 0.9989845 | 0.7974009 | 0.8093169 | 0.3035122 | ⋯ | 0.7977781 | 0.0028398848 | 0.6241561 | 0.6104406 | 0.8401383 | 0.2757887 | 0.02679116 | 0.5651584 | 1 | 0.09764874 |\n",
       "| 0 | 0.5062643 | 0.5599106 | 0.5540446 | 0.6078496 | 0.6078496 | 0.9990738 | 0.7974999 | 0.8093994 | 0.3034982 | ⋯ | 0.8118079 | 0.0028371958 | 0.6239575 | 0.6078459 | 0.8410836 | 0.2775472 | 0.02682205 | 0.5653015 | 1 | 0.04400945 |\n",
       "| 0 | 0.4930532 | 0.5701047 | 0.5495476 | 0.6274089 | 0.6274089 | 0.9980803 | 0.8019867 | 0.8137996 | 0.3134153 | ⋯ | 0.8159559 | 0.0007068724 | 0.6266803 | 0.6274082 | 0.8410185 | 0.2751141 | 0.02679295 | 0.5651669 | 1 | 0.23390224 |\n",
       "\n"
      ],
      "text/plain": [
       "     Bankrupt? ROA(C) before interest and depreciation before interest\n",
       "1    1         0.3705943                                              \n",
       "2    1         0.4642909                                              \n",
       "3    1         0.4260713                                              \n",
       "⋮    ⋮         ⋮                                                      \n",
       "6817 0         0.4727246                                              \n",
       "6818 0         0.5062643                                              \n",
       "6819 0         0.4930532                                              \n",
       "     ROA(A) before interest and % after tax\n",
       "1    0.4243894                             \n",
       "2    0.5382141                             \n",
       "3    0.4990188                             \n",
       "⋮    ⋮                                     \n",
       "6817 0.5337440                             \n",
       "6818 0.5599106                             \n",
       "6819 0.5701047                             \n",
       "     ROA(B) before interest and depreciation after tax Operating Gross Margin\n",
       "1    0.4057498                                         0.6014572             \n",
       "2    0.5167300                                         0.6102351             \n",
       "3    0.4722951                                         0.6014500             \n",
       "⋮    ⋮                                                 ⋮                     \n",
       "6817 0.5206381                                         0.6104441             \n",
       "6818 0.5540446                                         0.6078496             \n",
       "6819 0.5495476                                         0.6274089             \n",
       "     Realized Sales Gross Margin Operating Profit Rate\n",
       "1    0.6014572                   0.9989692            \n",
       "2    0.6102351                   0.9989460            \n",
       "3    0.6013635                   0.9988574            \n",
       "⋮    ⋮                           ⋮                    \n",
       "6817 0.6102135                   0.9989845            \n",
       "6818 0.6078496                   0.9990738            \n",
       "6819 0.6274089                   0.9980803            \n",
       "     Pre-tax net Interest Rate After-tax net Interest Rate\n",
       "1    0.7968871                 0.8088094                  \n",
       "2    0.7973802                 0.8093007                  \n",
       "3    0.7964034                 0.8083875                  \n",
       "⋮    ⋮                         ⋮                          \n",
       "6817 0.7974009                 0.8093169                  \n",
       "6818 0.7974999                 0.8093994                  \n",
       "6819 0.8019867                 0.8137996                  \n",
       "     Non-industry income and expenditure/revenue ⋯ Net Income to Total Assets\n",
       "1    0.3026464                                   ⋯ 0.7168453                 \n",
       "2    0.3035564                                   ⋯ 0.7952971                 \n",
       "3    0.3020352                                   ⋯ 0.7746697                 \n",
       "⋮    ⋮                                           ⋱ ⋮                         \n",
       "6817 0.3035122                                   ⋯ 0.7977781                 \n",
       "6818 0.3034982                                   ⋯ 0.8118079                 \n",
       "6819 0.3134153                                   ⋯ 0.8159559                 \n",
       "     Total assets to GNP price No-credit Interval Gross Profit to Sales\n",
       "1    0.009219440               0.6228790          0.6014533            \n",
       "2    0.008323302               0.6236517          0.6102365            \n",
       "3    0.040002853               0.6238410          0.6014493            \n",
       "⋮    ⋮                         ⋮                  ⋮                    \n",
       "6817 0.0028398848              0.6241561          0.6104406            \n",
       "6818 0.0028371958              0.6239575          0.6078459            \n",
       "6819 0.0007068724              0.6266803          0.6274082            \n",
       "     Net Income to Stockholder's Equity Liability to Equity\n",
       "1    0.8278902                          0.2902019          \n",
       "2    0.8399693                          0.2838460          \n",
       "3    0.8367743                          0.2901885          \n",
       "⋮    ⋮                                  ⋮                  \n",
       "6817 0.8401383                          0.2757887          \n",
       "6818 0.8410836                          0.2775472          \n",
       "6819 0.8410185                          0.2751141          \n",
       "     Degree of Financial Leverage (DFL)\n",
       "1    0.02660063                        \n",
       "2    0.26457682                        \n",
       "3    0.02655472                        \n",
       "⋮    ⋮                                 \n",
       "6817 0.02679116                        \n",
       "6818 0.02682205                        \n",
       "6819 0.02679295                        \n",
       "     Interest Coverage Ratio (Interest expense to EBIT) Net Income Flag\n",
       "1    0.5640501                                          1              \n",
       "2    0.5701749                                          1              \n",
       "3    0.5637061                                          1              \n",
       "⋮    ⋮                                                  ⋮              \n",
       "6817 0.5651584                                          1              \n",
       "6818 0.5653015                                          1              \n",
       "6819 0.5651669                                          1              \n",
       "     Equity to Liability\n",
       "1    0.01646874         \n",
       "2    0.02079431         \n",
       "3    0.01647411         \n",
       "⋮    ⋮                  \n",
       "6817 0.09764874         \n",
       "6818 0.04400945         \n",
       "6819 0.23390224         "
      ]
     },
     "metadata": {},
     "output_type": "display_data"
    }
   ],
   "source": [
    "#Read csv files\n",
    "\n",
    "bank_data <- read_csv('company_bankruptcy_data.csv')\n",
    "bank_data"
   ]
  },
  {
   "cell_type": "code",
   "execution_count": 29,
   "id": "bb5e39f7-9bc0-4227-b2e2-9bbfea2e2041",
   "metadata": {},
   "outputs": [
    {
     "data": {
      "text/html": [
       "FALSE"
      ],
      "text/latex": [
       "FALSE"
      ],
      "text/markdown": [
       "FALSE"
      ],
      "text/plain": [
       "[1] FALSE"
      ]
     },
     "metadata": {},
     "output_type": "display_data"
    },
    {
     "data": {
      "text/html": [
       "<table class=\"dataframe\">\n",
       "<caption>A tibble: 6819 × 6</caption>\n",
       "<thead>\n",
       "\t<tr><th scope=col>Bankrupt?</th><th scope=col>Net Income to Total Assets</th><th scope=col>Debt ratio %</th><th scope=col>Net Value Growth Rate</th><th scope=col>Interest Coverage Ratio (Interest expense to EBIT)</th><th scope=col>Current Ratio</th></tr>\n",
       "\t<tr><th scope=col>&lt;fct&gt;</th><th scope=col>&lt;dbl&gt;</th><th scope=col>&lt;dbl&gt;</th><th scope=col>&lt;dbl&gt;</th><th scope=col>&lt;dbl&gt;</th><th scope=col>&lt;dbl&gt;</th></tr>\n",
       "</thead>\n",
       "<tbody>\n",
       "\t<tr><td>0</td><td>0.0000000</td><td>0.1775856</td><td>0.0002298299</td><td>0.5651584</td><td>0.0038982718</td></tr>\n",
       "\t<tr><td>0</td><td>0.2247920</td><td>0.1832996</td><td>0.0002339473</td><td>0.5651523</td><td>0.0068186995</td></tr>\n",
       "\t<tr><td>1</td><td>0.4118092</td><td>0.3318923</td><td>0.0001670197</td><td>0.5650981</td><td>0.0007194985</td></tr>\n",
       "\t<tr><td>⋮</td><td>⋮</td><td>⋮</td><td>⋮</td><td>⋮</td><td>⋮</td></tr>\n",
       "\t<tr><td>0</td><td>0.9813151</td><td>0.07437192</td><td>0.0013438933</td><td>0.5651957</td><td>0.02005423</td></tr>\n",
       "\t<tr><td>0</td><td>0.9828793</td><td>0.02551622</td><td>0.0008258403</td><td>0.5651601</td><td>0.04095588</td></tr>\n",
       "\t<tr><td>0</td><td>1.0000000</td><td>0.02950691</td><td>0.0006389070</td><td>0.5651640</td><td>0.03274311</td></tr>\n",
       "</tbody>\n",
       "</table>\n"
      ],
      "text/latex": [
       "A tibble: 6819 × 6\n",
       "\\begin{tabular}{llllll}\n",
       " Bankrupt? & Net Income to Total Assets & Debt ratio \\% & Net Value Growth Rate & Interest Coverage Ratio (Interest expense to EBIT) & Current Ratio\\\\\n",
       " <fct> & <dbl> & <dbl> & <dbl> & <dbl> & <dbl>\\\\\n",
       "\\hline\n",
       "\t 0 & 0.0000000 & 0.1775856 & 0.0002298299 & 0.5651584 & 0.0038982718\\\\\n",
       "\t 0 & 0.2247920 & 0.1832996 & 0.0002339473 & 0.5651523 & 0.0068186995\\\\\n",
       "\t 1 & 0.4118092 & 0.3318923 & 0.0001670197 & 0.5650981 & 0.0007194985\\\\\n",
       "\t ⋮ & ⋮ & ⋮ & ⋮ & ⋮ & ⋮\\\\\n",
       "\t 0 & 0.9813151 & 0.07437192 & 0.0013438933 & 0.5651957 & 0.02005423\\\\\n",
       "\t 0 & 0.9828793 & 0.02551622 & 0.0008258403 & 0.5651601 & 0.04095588\\\\\n",
       "\t 0 & 1.0000000 & 0.02950691 & 0.0006389070 & 0.5651640 & 0.03274311\\\\\n",
       "\\end{tabular}\n"
      ],
      "text/markdown": [
       "\n",
       "A tibble: 6819 × 6\n",
       "\n",
       "| Bankrupt? &lt;fct&gt; | Net Income to Total Assets &lt;dbl&gt; | Debt ratio % &lt;dbl&gt; | Net Value Growth Rate &lt;dbl&gt; | Interest Coverage Ratio (Interest expense to EBIT) &lt;dbl&gt; | Current Ratio &lt;dbl&gt; |\n",
       "|---|---|---|---|---|---|\n",
       "| 0 | 0.0000000 | 0.1775856 | 0.0002298299 | 0.5651584 | 0.0038982718 |\n",
       "| 0 | 0.2247920 | 0.1832996 | 0.0002339473 | 0.5651523 | 0.0068186995 |\n",
       "| 1 | 0.4118092 | 0.3318923 | 0.0001670197 | 0.5650981 | 0.0007194985 |\n",
       "| ⋮ | ⋮ | ⋮ | ⋮ | ⋮ | ⋮ |\n",
       "| 0 | 0.9813151 | 0.07437192 | 0.0013438933 | 0.5651957 | 0.02005423 |\n",
       "| 0 | 0.9828793 | 0.02551622 | 0.0008258403 | 0.5651601 | 0.04095588 |\n",
       "| 0 | 1.0000000 | 0.02950691 | 0.0006389070 | 0.5651640 | 0.03274311 |\n",
       "\n"
      ],
      "text/plain": [
       "     Bankrupt? Net Income to Total Assets Debt ratio % Net Value Growth Rate\n",
       "1    0         0.0000000                  0.1775856    0.0002298299         \n",
       "2    0         0.2247920                  0.1832996    0.0002339473         \n",
       "3    1         0.4118092                  0.3318923    0.0001670197         \n",
       "⋮    ⋮         ⋮                          ⋮            ⋮                    \n",
       "6817 0         0.9813151                  0.07437192   0.0013438933         \n",
       "6818 0         0.9828793                  0.02551622   0.0008258403         \n",
       "6819 0         1.0000000                  0.02950691   0.0006389070         \n",
       "     Interest Coverage Ratio (Interest expense to EBIT) Current Ratio\n",
       "1    0.5651584                                          0.0038982718 \n",
       "2    0.5651523                                          0.0068186995 \n",
       "3    0.5650981                                          0.0007194985 \n",
       "⋮    ⋮                                                  ⋮            \n",
       "6817 0.5651957                                          0.02005423   \n",
       "6818 0.5651601                                          0.04095588   \n",
       "6819 0.5651640                                          0.03274311   "
      ]
     },
     "metadata": {},
     "output_type": "display_data"
    }
   ],
   "source": [
    "#Cleaning Dataset\n",
    "\n",
    "#Convert subscribe to factor\n",
    "bank_data <- bank_data |>\n",
    "    mutate(`Bankrupt?` = as.factor(`Bankrupt?`))\n",
    "\n",
    "#select the target variable\n",
    "bank_data <- bank_data|>\n",
    "select(`Bankrupt?`,`Net Income to Total Assets`,`Debt ratio %`,`Net Value Growth Rate`,`Interest Coverage Ratio (Interest expense to EBIT)`,`Current Ratio`)\n",
    "\n",
    "#Check for missing values in the dataset\n",
    "any(is.na(bank_data))\n",
    "\n",
    "bank_data <- arrange(bank_data, `Net Income to Total Assets`)\n",
    "bank_data \n"
   ]
  },
  {
   "cell_type": "markdown",
   "id": "9b6d200b-8efb-4870-8929-647c9a4144d6",
   "metadata": {},
   "source": [
    "**We removed extreme or invalid entries based on domain-specific thresholds for key financial indicators. These include companies with zero profitability, negative or excessively high debt ratios, unrealistically large changes in net value, or nonviable interest coverage and liquidity levels.**"
   ]
  },
  {
   "cell_type": "code",
   "execution_count": 33,
   "id": "24585113-8372-407b-a68b-fe8280839400",
   "metadata": {},
   "outputs": [
    {
     "data": {
      "text/html": [
       "<table class=\"dataframe\">\n",
       "<caption>A tibble: 219 × 6</caption>\n",
       "<thead>\n",
       "\t<tr><th scope=col>Bankrupt?</th><th scope=col>Net Income to Total Assets</th><th scope=col>Debt ratio %</th><th scope=col>Net Value Growth Rate</th><th scope=col>Interest Coverage Ratio (Interest expense to EBIT)</th><th scope=col>Current Ratio</th></tr>\n",
       "\t<tr><th scope=col>&lt;fct&gt;</th><th scope=col>&lt;dbl&gt;</th><th scope=col>&lt;dbl&gt;</th><th scope=col>&lt;dbl&gt;</th><th scope=col>&lt;dbl&gt;</th><th scope=col>&lt;dbl&gt;</th></tr>\n",
       "</thead>\n",
       "<tbody>\n",
       "\t<tr><td>1</td><td>0.4118092</td><td>0.3318923</td><td>0.0001670197</td><td>0.5650981</td><td>0.0007194985</td></tr>\n",
       "\t<tr><td>1</td><td>0.4209955</td><td>0.2437041</td><td>0.0002269851</td><td>0.5650899</td><td>0.0060361746</td></tr>\n",
       "\t<tr><td>1</td><td>0.4237553</td><td>0.0704417</td><td>0.0002974562</td><td>0.5651570</td><td>0.0192873033</td></tr>\n",
       "\t<tr><td>⋮</td><td>⋮</td><td>⋮</td><td>⋮</td><td>⋮</td><td>⋮</td></tr>\n",
       "\t<tr><td>1</td><td>0.813856</td><td>0.2314902</td><td>0.0004797730</td><td>0.5653242</td><td>0.007342879</td></tr>\n",
       "\t<tr><td>1</td><td>0.818788</td><td>0.2199716</td><td>0.0005930908</td><td>0.5666527</td><td>0.006209029</td></tr>\n",
       "\t<tr><td>1</td><td>0.819091</td><td>0.1562415</td><td>0.0004941217</td><td>0.5658072</td><td>0.005926347</td></tr>\n",
       "</tbody>\n",
       "</table>\n"
      ],
      "text/latex": [
       "A tibble: 219 × 6\n",
       "\\begin{tabular}{llllll}\n",
       " Bankrupt? & Net Income to Total Assets & Debt ratio \\% & Net Value Growth Rate & Interest Coverage Ratio (Interest expense to EBIT) & Current Ratio\\\\\n",
       " <fct> & <dbl> & <dbl> & <dbl> & <dbl> & <dbl>\\\\\n",
       "\\hline\n",
       "\t 1 & 0.4118092 & 0.3318923 & 0.0001670197 & 0.5650981 & 0.0007194985\\\\\n",
       "\t 1 & 0.4209955 & 0.2437041 & 0.0002269851 & 0.5650899 & 0.0060361746\\\\\n",
       "\t 1 & 0.4237553 & 0.0704417 & 0.0002974562 & 0.5651570 & 0.0192873033\\\\\n",
       "\t ⋮ & ⋮ & ⋮ & ⋮ & ⋮ & ⋮\\\\\n",
       "\t 1 & 0.813856 & 0.2314902 & 0.0004797730 & 0.5653242 & 0.007342879\\\\\n",
       "\t 1 & 0.818788 & 0.2199716 & 0.0005930908 & 0.5666527 & 0.006209029\\\\\n",
       "\t 1 & 0.819091 & 0.1562415 & 0.0004941217 & 0.5658072 & 0.005926347\\\\\n",
       "\\end{tabular}\n"
      ],
      "text/markdown": [
       "\n",
       "A tibble: 219 × 6\n",
       "\n",
       "| Bankrupt? &lt;fct&gt; | Net Income to Total Assets &lt;dbl&gt; | Debt ratio % &lt;dbl&gt; | Net Value Growth Rate &lt;dbl&gt; | Interest Coverage Ratio (Interest expense to EBIT) &lt;dbl&gt; | Current Ratio &lt;dbl&gt; |\n",
       "|---|---|---|---|---|---|\n",
       "| 1 | 0.4118092 | 0.3318923 | 0.0001670197 | 0.5650981 | 0.0007194985 |\n",
       "| 1 | 0.4209955 | 0.2437041 | 0.0002269851 | 0.5650899 | 0.0060361746 |\n",
       "| 1 | 0.4237553 | 0.0704417 | 0.0002974562 | 0.5651570 | 0.0192873033 |\n",
       "| ⋮ | ⋮ | ⋮ | ⋮ | ⋮ | ⋮ |\n",
       "| 1 | 0.813856 | 0.2314902 | 0.0004797730 | 0.5653242 | 0.007342879 |\n",
       "| 1 | 0.818788 | 0.2199716 | 0.0005930908 | 0.5666527 | 0.006209029 |\n",
       "| 1 | 0.819091 | 0.1562415 | 0.0004941217 | 0.5658072 | 0.005926347 |\n",
       "\n"
      ],
      "text/plain": [
       "    Bankrupt? Net Income to Total Assets Debt ratio % Net Value Growth Rate\n",
       "1   1         0.4118092                  0.3318923    0.0001670197         \n",
       "2   1         0.4209955                  0.2437041    0.0002269851         \n",
       "3   1         0.4237553                  0.0704417    0.0002974562         \n",
       "⋮   ⋮         ⋮                          ⋮            ⋮                    \n",
       "217 1         0.813856                   0.2314902    0.0004797730         \n",
       "218 1         0.818788                   0.2199716    0.0005930908         \n",
       "219 1         0.819091                   0.1562415    0.0004941217         \n",
       "    Interest Coverage Ratio (Interest expense to EBIT) Current Ratio\n",
       "1   0.5650981                                          0.0007194985 \n",
       "2   0.5650899                                          0.0060361746 \n",
       "3   0.5651570                                          0.0192873033 \n",
       "⋮   ⋮                                                  ⋮            \n",
       "217 0.5653242                                          0.007342879  \n",
       "218 0.5666527                                          0.006209029  \n",
       "219 0.5658072                                          0.005926347  "
      ]
     },
     "metadata": {},
     "output_type": "display_data"
    }
   ],
   "source": [
    "#Remove any companies with incomplete or invalid financial data\n",
    "bank_data <- bank_data |>\n",
    "  filter(`Net Income to Total Assets` != 0,\n",
    "         `Debt ratio %` > 0, `Debt ratio %` < 100,\n",
    "         `Net Value Growth Rate` > -1, `Net Value Growth Rate` < 5,\n",
    "         `Interest Coverage Ratio (Interest expense to EBIT)` > 0,\n",
    "         `Interest Coverage Ratio (Interest expense to EBIT)` < 100,\n",
    "         `Current Ratio` > 0, `Current Ratio` < 50,\n",
    "         `Bankrupt?` == 1)\n",
    "\n",
    "bank_data"
   ]
  },
  {
   "cell_type": "code",
   "execution_count": null,
   "id": "6a680912-8a19-4d37-9e08-a84ad33adf29",
   "metadata": {},
   "outputs": [],
   "source": []
  }
 ],
 "metadata": {
  "kernelspec": {
   "display_name": "R",
   "language": "R",
   "name": "ir"
  },
  "language_info": {
   "codemirror_mode": "r",
   "file_extension": ".r",
   "mimetype": "text/x-r-source",
   "name": "R",
   "pygments_lexer": "r",
   "version": "4.3.3"
  }
 },
 "nbformat": 4,
 "nbformat_minor": 5
}
